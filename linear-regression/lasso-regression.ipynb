{
 "cells": [
  {
   "cell_type": "code",
   "execution_count": 18,
   "id": "magnetic-milton",
   "metadata": {},
   "outputs": [
    {
     "name": "stdout",
     "output_type": "stream",
     "text": [
      "[ 0.          2.35793224  2.00441646 -0.05511954 -3.92808318  0.        ]\n"
     ]
    }
   ],
   "source": [
    "# TODO: Add import statements\n",
    "import numpy as np\n",
    "import pandas as pd\n",
    "from sklearn.linear_model import Lasso\n",
    "\n",
    "# Assign the data to predictor and outcome variables\n",
    "# TODO: Load the data\n",
    "train_data = pd.read_csv('data.csv', header=None)\n",
    "X = train_data.iloc[:,:-1]\n",
    "y = train_data.iloc[:, -1]\n",
    "\n",
    "# TODO: Create the linear regression model with lasso regularization.\n",
    "lasso_reg = Lasso()\n",
    "\n",
    "# TODO: Fit the model.\n",
    "lasso_reg.fit(X, y)\n",
    "\n",
    "# TODO: Retrieve and print out the coefficients from the regression model.\n",
    "reg_coef = lasso_reg.coef_\n",
    "print(reg_coef)"
   ]
  },
  {
   "cell_type": "code",
   "execution_count": 35,
   "id": "agricultural-lafayette",
   "metadata": {},
   "outputs": [
    {
     "data": {
      "text/plain": [
       "0.863120568566631"
      ]
     },
     "execution_count": 35,
     "metadata": {},
     "output_type": "execute_result"
    }
   ],
   "source": [
    "n = 4\n",
    "m = 10\n",
    "def ent(*args):\n",
    "    den = sum(args)\n",
    "    ent = 0\n",
    "    for arg in args:\n",
    "        ent += - arg / den * np.log2(arg / den)\n",
    "        \n",
    "    return ent\n",
    "\n",
    "ent(m, n)"
   ]
  },
  {
   "cell_type": "code",
   "execution_count": 38,
   "id": "informed-conversion",
   "metadata": {},
   "outputs": [],
   "source": [
    "def get_ent(df):\n",
    "    all = len(df)\n",
    "    mobug = len(df.query('Species_Mobug == 1'))\n",
    "    lobug = all - mobug\n",
    "    return ent(lobug, mobug)"
   ]
  },
  {
   "cell_type": "code",
   "execution_count": 39,
   "id": "twelve-pendant",
   "metadata": {},
   "outputs": [
    {
     "data": {
      "text/html": [
       "<div>\n",
       "<style scoped>\n",
       "    .dataframe tbody tr th:only-of-type {\n",
       "        vertical-align: middle;\n",
       "    }\n",
       "\n",
       "    .dataframe tbody tr th {\n",
       "        vertical-align: top;\n",
       "    }\n",
       "\n",
       "    .dataframe thead th {\n",
       "        text-align: right;\n",
       "    }\n",
       "</style>\n",
       "<table border=\"1\" class=\"dataframe\">\n",
       "  <thead>\n",
       "    <tr style=\"text-align: right;\">\n",
       "      <th></th>\n",
       "      <th>Length (mm)</th>\n",
       "      <th>Species_Mobug</th>\n",
       "      <th>Color_Blue</th>\n",
       "      <th>Color_Brown</th>\n",
       "      <th>Color_Green</th>\n",
       "    </tr>\n",
       "  </thead>\n",
       "  <tbody>\n",
       "    <tr>\n",
       "      <th>0</th>\n",
       "      <td>11.6</td>\n",
       "      <td>1</td>\n",
       "      <td>0</td>\n",
       "      <td>1</td>\n",
       "      <td>0</td>\n",
       "    </tr>\n",
       "    <tr>\n",
       "      <th>1</th>\n",
       "      <td>16.3</td>\n",
       "      <td>1</td>\n",
       "      <td>1</td>\n",
       "      <td>0</td>\n",
       "      <td>0</td>\n",
       "    </tr>\n",
       "    <tr>\n",
       "      <th>2</th>\n",
       "      <td>15.1</td>\n",
       "      <td>0</td>\n",
       "      <td>1</td>\n",
       "      <td>0</td>\n",
       "      <td>0</td>\n",
       "    </tr>\n",
       "    <tr>\n",
       "      <th>3</th>\n",
       "      <td>23.7</td>\n",
       "      <td>0</td>\n",
       "      <td>0</td>\n",
       "      <td>0</td>\n",
       "      <td>1</td>\n",
       "    </tr>\n",
       "    <tr>\n",
       "      <th>4</th>\n",
       "      <td>18.4</td>\n",
       "      <td>0</td>\n",
       "      <td>1</td>\n",
       "      <td>0</td>\n",
       "      <td>0</td>\n",
       "    </tr>\n",
       "  </tbody>\n",
       "</table>\n",
       "</div>"
      ],
      "text/plain": [
       "   Length (mm)  Species_Mobug  Color_Blue  Color_Brown  Color_Green\n",
       "0         11.6              1           0            1            0\n",
       "1         16.3              1           1            0            0\n",
       "2         15.1              0           1            0            0\n",
       "3         23.7              0           0            0            1\n",
       "4         18.4              0           1            0            0"
      ]
     },
     "execution_count": 39,
     "metadata": {},
     "output_type": "execute_result"
    }
   ],
   "source": [
    "import pandas as pd\n",
    "%matplotlib inline\n",
    "df = pd.read_csv('ml-bugs.csv')\n",
    "cat = pd.get_dummies(df).drop('Species_Lobug', axis=1)\n",
    "cat.head()\n"
   ]
  },
  {
   "cell_type": "code",
   "execution_count": 40,
   "id": "strange-circle",
   "metadata": {},
   "outputs": [
    {
     "data": {
      "text/plain": [
       "0.9798687566511528"
      ]
     },
     "execution_count": 40,
     "metadata": {},
     "output_type": "execute_result"
    }
   ],
   "source": [
    "get_ent(cat)"
   ]
  },
  {
   "cell_type": "code",
   "execution_count": 49,
   "id": "israeli-timber",
   "metadata": {},
   "outputs": [],
   "source": [
    "cases = [cat['Color_Brown'] == 1, cat['Color_Blue'] == 1, cat['Color_Green'] == 1, cat['Length (mm)'] < 17.00, cat['Length (mm)'] < 20.00]"
   ]
  },
  {
   "cell_type": "code",
   "execution_count": 56,
   "id": "arctic-vinyl",
   "metadata": {},
   "outputs": [
    {
     "name": "stdout",
     "output_type": "stream",
     "text": [
      "(0.9182958340544896, 0.9182958340544896) 1.8365916681089791\n",
      "(0.9709505944546686, 0.9852281360342515) 1.95617873048892\n",
      "(0.8112781244591328, 1.0) 1.811278124459133\n",
      "(0.9182958340544896, 0.8366407419411672) 1.7549365759956568\n",
      "(0.9975025463691153, 0.5916727785823275) 1.5891753249514426\n"
     ]
    }
   ],
   "source": [
    "for case in cases:\n",
    "    ents = (get_ent(cat[case])), get_ent(cat[~case]) \n",
    "    print(ents, sum(ents))"
   ]
  }
 ],
 "metadata": {
  "kernelspec": {
   "display_name": "Python 3",
   "language": "python",
   "name": "python3"
  },
  "language_info": {
   "codemirror_mode": {
    "name": "ipython",
    "version": 3
   },
   "file_extension": ".py",
   "mimetype": "text/x-python",
   "name": "python",
   "nbconvert_exporter": "python",
   "pygments_lexer": "ipython3",
   "version": "3.7.9"
  }
 },
 "nbformat": 4,
 "nbformat_minor": 5
}
