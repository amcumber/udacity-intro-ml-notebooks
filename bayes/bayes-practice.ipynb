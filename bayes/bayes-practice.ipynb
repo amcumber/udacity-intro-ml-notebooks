{
 "cells": [
  {
   "cell_type": "code",
   "execution_count": 10,
   "id": "acting-gather",
   "metadata": {},
   "outputs": [
    {
     "data": {
      "text/plain": [
       "0.00980392156862745"
      ]
     },
     "execution_count": 10,
     "metadata": {},
     "output_type": "execute_result"
    }
   ],
   "source": [
    "ac, a = 1, 99\n",
    "pc, p = 1, 9999\n",
    "pc*a/(a+p)"
   ]
  },
  {
   "cell_type": "code",
   "execution_count": 19,
   "id": "likely-officer",
   "metadata": {},
   "outputs": [
    {
     "data": {
      "text/plain": [
       "0.42857142857142855"
      ]
     },
     "execution_count": 19,
     "metadata": {},
     "output_type": "execute_result"
    }
   ],
   "source": [
    "s, sc = (3, 15)\n",
    "n, nc = (4, 8)\n",
    "s/(s+n)"
   ]
  },
  {
   "cell_type": "code",
   "execution_count": 20,
   "id": "municipal-priest",
   "metadata": {},
   "outputs": [
    {
     "data": {
      "text/plain": [
       "0.4285714285714286"
      ]
     },
     "execution_count": 20,
     "metadata": {},
     "output_type": "execute_result"
    }
   ],
   "source": [
    "p_s_3 = 1/6*3\n",
    "p_ns_3 = 2/6*2\n",
    "p_s_3/(p_s_3 + p_ns_3)"
   ]
  },
  {
   "cell_type": "code",
   "execution_count": null,
   "id": "beginning-karen",
   "metadata": {},
   "outputs": [],
   "source": []
  }
 ],
 "metadata": {
  "kernelspec": {
   "display_name": "pytorch",
   "language": "python",
   "name": "pytorch"
  },
  "language_info": {
   "codemirror_mode": {
    "name": "ipython",
    "version": 3
   },
   "file_extension": ".py",
   "mimetype": "text/x-python",
   "name": "python",
   "nbconvert_exporter": "python",
   "pygments_lexer": "ipython3",
   "version": "3.7.9"
  }
 },
 "nbformat": 4,
 "nbformat_minor": 5
}
